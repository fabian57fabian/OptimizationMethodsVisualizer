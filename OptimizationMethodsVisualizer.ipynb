{
  "nbformat": 4,
  "nbformat_minor": 0,
  "metadata": {
    "colab": {
      "name": "OptimizationMethodsVisualizer.ipynb",
      "provenance": [],
      "authorship_tag": "ABX9TyMk2kWNfjBT93wSqEm5XfPc",
      "include_colab_link": true
    },
    "kernelspec": {
      "name": "python3",
      "display_name": "Python 3"
    }
  },
  "cells": [
    {
      "cell_type": "markdown",
      "metadata": {
        "id": "view-in-github",
        "colab_type": "text"
      },
      "source": [
        "<a href=\"https://colab.research.google.com/github/fabian57fabian/OptimizationMethodsVisualizer/blob/main/OptimizationMethodsVisualizer.ipynb\" target=\"_parent\"><img src=\"https://colab.research.google.com/assets/colab-badge.svg\" alt=\"Open In Colab\"/></a>"
      ]
    },
    {
      "cell_type": "markdown",
      "metadata": {
        "id": "05yYg6uj7JZp"
      },
      "source": [
        "# Optimization Methods Visualizer in Python"
      ]
    },
    {
      "cell_type": "markdown",
      "metadata": {
        "id": "9EQSS2hq7qdA"
      },
      "source": [
        "This notebook was created to give a visual understanding about Optimization Methods algotythms.\n"
      ]
    },
    {
      "cell_type": "markdown",
      "metadata": {
        "id": "8zKT-u_s8HPc"
      },
      "source": [
        "The blocks below will set up the environment with necessary libraries.\n",
        "\n",
        "Run the following cell to set up the system."
      ]
    },
    {
      "cell_type": "code",
      "metadata": {
        "id": "sxY51vi65e-W"
      },
      "source": [
        "import matplotlib.pyplot as plt\n",
        "import numpy as np"
      ],
      "execution_count": null,
      "outputs": []
    }
  ]
}